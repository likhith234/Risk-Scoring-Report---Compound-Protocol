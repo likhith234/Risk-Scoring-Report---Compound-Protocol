{
 "cells": [
  {
   "cell_type": "code",
   "execution_count": 1,
   "id": "d8f5607c",
   "metadata": {},
   "outputs": [],
   "source": [
    "import pandas as pd\n",
    "import numpy as np\n",
    "\n",
    "# Load the dataset\n",
    "df = pd.read_csv(\"Wallet id - Sheet1.csv\")\n",
    "\n",
    "# Simulate Compound-like activity data\n",
    "np.random.seed(42)\n",
    "df['total_supplied_usd'] = np.random.uniform(1000, 10000, len(df))\n",
    "df['total_borrowed_usd'] = np.random.uniform(500, 9000, len(df))\n",
    "df['liquidation_count'] = np.random.randint(0, 4, len(df))\n",
    "df['total_repaid_usd'] = df['total_borrowed_usd'] * np.random.uniform(0.4, 1.1, len(df))\n",
    "df['activity_count'] = np.random.randint(5, 50, len(df))\n",
    "df['days_since_last_txn'] = np.random.randint(0, 365, len(df))\n",
    "\n",
    "# Compute derived features\n",
    "df['borrow_to_supply_ratio'] = df['total_borrowed_usd'] / df['total_supplied_usd']\n",
    "df['repayment_ratio'] = df['total_repaid_usd'] / df['total_borrowed_usd']\n",
    "df['utilization_rate'] = df['total_borrowed_usd'] / (df['total_supplied_usd'] + df['total_repaid_usd'])\n",
    "\n",
    "# Binary flags\n",
    "df['is_inactive'] = (df['days_since_last_txn'] > 180).astype(int)\n",
    "df['is_frequent_liquidated'] = (df['liquidation_count'] > 0).astype(int)\n",
    "\n",
    "# Normalize features to [0, 1]\n",
    "df['borrow_to_supply_score'] = np.clip(df['borrow_to_supply_ratio'], 0, 1)\n",
    "df['repayment_score'] = 1 - np.clip(df['repayment_ratio'], 0, 1)\n",
    "df['utilization_score'] = np.clip(df['utilization_rate'], 0, 1)\n",
    "\n",
    "# Compute final risk score (weighted)\n",
    "df['score'] = 1000 * (\n",
    "    0.25 * df['borrow_to_supply_score'] +\n",
    "    0.25 * df['utilization_score'] +\n",
    "    0.2  * df['repayment_score'] +\n",
    "    0.15 * df['is_frequent_liquidated'] +\n",
    "    0.15 * df['is_inactive']\n",
    ")\n",
    "\n",
    "# Round and clip scores\n",
    "df['score'] = df['score'].clip(0, 1000).round().astype(int)\n",
    "\n",
    "# Save output\n",
    "df[['wallet_id', 'score']].to_csv(\"wallet_risk_scores.csv\", index=False)\n"
   ]
  }
 ],
 "metadata": {
  "kernelspec": {
   "display_name": "Python 3",
   "language": "python",
   "name": "python3"
  },
  "language_info": {
   "codemirror_mode": {
    "name": "ipython",
    "version": 3
   },
   "file_extension": ".py",
   "mimetype": "text/x-python",
   "name": "python",
   "nbconvert_exporter": "python",
   "pygments_lexer": "ipython3",
   "version": "3.13.5"
  }
 },
 "nbformat": 4,
 "nbformat_minor": 5
}
